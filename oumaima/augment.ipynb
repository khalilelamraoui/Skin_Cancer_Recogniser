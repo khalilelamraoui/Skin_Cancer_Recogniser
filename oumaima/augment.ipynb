{
 "cells": [
  {
   "cell_type": "code",
   "execution_count": 2,
   "metadata": {},
   "outputs": [
    {
     "name": "stdout",
     "output_type": "stream",
     "text": [
      "Augmentation complete. Augmented images saved in '/teamspace/studios/this_studio/skin-1/train/Nevus'.\n"
     ]
    }
   ],
   "source": [
    "import os\n",
    "from PIL import Image, ImageEnhance\n",
    "\n",
    "def augment_images(input_folder, output_folder):\n",
    "    \"\"\"\n",
    "    Apply horizontal flips, vertical flips, 90°, 180°, 270° rotations,\n",
    "    and a 20% brightness increase to all images in a dataset folder.\n",
    "\n",
    "    Args:\n",
    "        input_folder (str): Path to the folder containing the original dataset images.\n",
    "        output_folder (str): Path to the folder where augmented images will be saved.\n",
    "    \"\"\"\n",
    "    if not os.path.exists(output_folder):\n",
    "        os.makedirs(output_folder)\n",
    "\n",
    "    for filename in os.listdir(input_folder):\n",
    "        if filename.lower().endswith(('.png', '.jpg', '.jpeg', '.bmp', '.tiff')):\n",
    "            image_path = os.path.join(input_folder, filename)\n",
    "            image = Image.open(image_path)\n",
    "\n",
    "            base_name, ext = os.path.splitext(filename)\n",
    "\n",
    "            # Horizontal Flip\n",
    "            horizontal_flip = image.transpose(Image.FLIP_LEFT_RIGHT)\n",
    "            horizontal_flip.save(os.path.join(output_folder, f\"{base_name}_hflip{ext}\"))\n",
    "\n",
    "            # Vertical Flip\n",
    "            vertical_flip = image.transpose(Image.FLIP_TOP_BOTTOM)\n",
    "            vertical_flip.save(os.path.join(output_folder, f\"{base_name}_vflip{ext}\"))\n",
    "\n",
    "            # Rotations\n",
    "            rotate_90 = image.rotate(90, expand=True)\n",
    "            rotate_90.save(os.path.join(output_folder, f\"{base_name}_rot90{ext}\"))\n",
    "\n",
    "            rotate_180 = image.rotate(180, expand=True)\n",
    "            rotate_180.save(os.path.join(output_folder, f\"{base_name}_rot180{ext}\"))\n",
    "\n",
    "            rotate_270 = image.rotate(270, expand=True)\n",
    "            rotate_270.save(os.path.join(output_folder, f\"{base_name}_rot270{ext}\"))\n",
    "\n",
    "            # Brightness Adjustment\n",
    "            enhancer = ImageEnhance.Brightness(image)\n",
    "            brightened_image = enhancer.enhance(1.2)  # 20% increase\n",
    "            brightened_image.save(os.path.join(output_folder, f\"{base_name}_bright{ext}\"))\n",
    "\n",
    "    print(f\"Augmentation complete. Augmented images saved in '{output_folder}'.\")\n",
    "\n",
    "# Example Usage\n",
    "input_folder = \"/teamspace/studios/this_studio/skin-1/train/Nevus\"  # Replace with the path to your dataset folder\n",
    "output_folder = \"/teamspace/studios/this_studio/skin-1/train/Nevus\"  # Replace with the path to save augmented images\n",
    "augment_images(input_folder, output_folder)"
   ]
  }
 ],
 "metadata": {
  "language_info": {
   "name": "python"
  }
 },
 "nbformat": 4,
 "nbformat_minor": 4
}
